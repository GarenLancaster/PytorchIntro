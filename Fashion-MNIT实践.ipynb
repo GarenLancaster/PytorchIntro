{
 "cells": [
  {
   "cell_type": "markdown",
   "metadata": {},
   "source": [
    "# Fashion-MNIT实践"
   ]
  },
  {
   "cell_type": "markdown",
   "metadata": {},
   "source": [
    "## 参数配置"
   ]
  },
  {
   "cell_type": "code",
   "execution_count": 1,
   "metadata": {},
   "outputs": [],
   "source": [
    "import os\n",
    "import numpy as np\n",
    "import pandas as pd\n",
    "import torch\n",
    "import torch.nn as nn\n",
    "import torch.optim as optim\n",
    "from torch.utils.data import Dataset,DataLoader"
   ]
  },
  {
   "cell_type": "code",
   "execution_count": 2,
   "metadata": {},
   "outputs": [],
   "source": [
    "device =torch.device(\"cuda\"if torch.cuda.is_available() else 'cpu')\n",
    "\n",
    "batch_size=64\n",
    "new_workers=4\n",
    "lr=1e-4\n",
    "epochs=15"
   ]
  },
  {
   "cell_type": "markdown",
   "metadata": {},
   "source": [
    "## 数据导入"
   ]
  },
  {
   "cell_type": "markdown",
   "metadata": {},
   "source": [
    "### 直接pytroch下载数据集"
   ]
  },
  {
   "cell_type": "code",
   "execution_count": 3,
   "metadata": {},
   "outputs": [],
   "source": [
    "from torchvision import transforms\n",
    "\n",
    "image_size=28\n",
    "data_transforms=transforms.Compose([\n",
    "    #transforms.ToPILImage(),\n",
    "    transforms.Resize(image_size),\n",
    "    transforms.ToTensor()\n",
    "])"
   ]
  },
  {
   "cell_type": "code",
   "execution_count": 4,
   "metadata": {},
   "outputs": [],
   "source": [
    "from torchvision import datasets\n",
    "\n",
    "train_data=datasets.FashionMNIST('datasets',train=True,transform=data_transforms,download=True)\n",
    "test_data=datasets.FashionMNIST('datasets',train=False,transform=data_transforms)"
   ]
  },
  {
   "cell_type": "markdown",
   "metadata": {},
   "source": [
    "### 由CSV制作数据集\n",
    "\n",
    "这里假设输入数据是pandas的dataframe"
   ]
  },
  {
   "cell_type": "code",
   "execution_count": 5,
   "metadata": {},
   "outputs": [],
   "source": [
    "class FMDataset(Dataset):\n",
    "    def __init__(self,df,transforms=None):\n",
    "        self.df=df\n",
    "        self.transforms=transforms\n",
    "        self.images=df.iloc[:,1:].values.astype(np.uint8)\n",
    "        self.labels=df.iloc[:,0].values\n",
    "    \n",
    "    def __len__(self):\n",
    "        return len(self.images)\n",
    "    \n",
    "    def __getitem__(self, index):\n",
    "        image=self.images[index].reshape(28,28,1)\n",
    "        label=int(self.labels[index])\n",
    "        if(self.transforms is None):\n",
    "           image=torch.tensor(image/255,dtype=torch.float)\n",
    "        else:\n",
    "            image=self.transforms(image)\n",
    "        label=torch.tensor(label,dtype=torch.int)\n",
    "        return image,label\n",
    "\n",
    "# 上面还有一个train和test的分类没写\n",
    "# train_df=pd.read_csv('...') \n",
    "# test_df=pd.read_csv('...')   \n",
    "# train_data=FMDataset(train_df,data_transforms)\n",
    "# test_data=FMDataset(test_df,data_transforms)"
   ]
  },
  {
   "cell_type": "markdown",
   "metadata": {},
   "source": [
    "### 装载数据"
   ]
  },
  {
   "cell_type": "code",
   "execution_count": 6,
   "metadata": {},
   "outputs": [],
   "source": [
    "# DataLoader参数pin_memory：增加运行速度消耗更多内存。这次先不用\n",
    "train_loader=DataLoader(train_data,batch_size=batch_size,shuffle=True,num_workers=new_workers,drop_last=True)\n",
    "test_loader=DataLoader(test_data,batch_size=batch_size,shuffle=False,num_workers=new_workers)"
   ]
  },
  {
   "cell_type": "code",
   "execution_count": 7,
   "metadata": {},
   "outputs": [
    {
     "name": "stdout",
     "output_type": "stream",
     "text": [
      "torch.Size([64, 1, 28, 28]) torch.Size([64])\n"
     ]
    },
    {
     "data": {
      "text/plain": [
       "<matplotlib.image.AxesImage at 0x1fe0c7daea0>"
      ]
     },
     "execution_count": 7,
     "metadata": {},
     "output_type": "execute_result"
    },
    {
     "data": {
      "image/png": "[encoded data removed]",
      "text/plain": [
       "<Figure size 640x480 with 1 Axes>"
      ]
     },
     "metadata": {},
     "output_type": "display_data"
    }
   ],
   "source": [
    "import matplotlib.pyplot as plt\n",
    "image,label=next(iter(train_loader))\n",
    "print(image.shape,label.shape)\n",
    "plt.imshow(image[0][0])"
   ]
  },
  {
   "cell_type": "markdown",
   "metadata": {},
   "source": [
    "## 模型构造"
   ]
  },
  {
   "cell_type": "markdown",
   "metadata": {},
   "source": [
    "继承nn.Module，构造一个简单的卷积网络"
   ]
  },
  {
   "cell_type": "code",
   "execution_count": 8,
   "metadata": {},
   "outputs": [
    {
     "name": "stdout",
     "output_type": "stream",
     "text": [
      "torch.Size([64, 4, 4])\n"
     ]
    }
   ],
   "source": [
    "class Net(nn.Module):\n",
    "    def __init__(self):\n",
    "        super(Net,self).__init__()\n",
    "        self.conv=nn.Sequential(\n",
    "            nn.Conv2d(1,32,5),\n",
    "            nn.ReLU(),\n",
    "            nn.MaxPool2d(2,stride=2),\n",
    "            nn.Dropout(0.3),\n",
    "            nn.Conv2d(32,64,5),\n",
    "            nn.ReLU(),\n",
    "            nn.MaxPool2d(2,stride=2),\n",
    "            nn.Dropout(0.3)\n",
    "        )\n",
    "        self.fc=nn.Sequential(\n",
    "            nn.Linear(64*4*4,512),\n",
    "            nn.ReLU(),\n",
    "            nn.Linear(512,10)\n",
    "        )\n",
    "\n",
    "    def forward(self,x):\n",
    "        x=self.conv(x)\n",
    "        \n",
    "        x=x.view(-1,64*4*4)\n",
    "        x=self.fc(x)\n",
    "        return x\n",
    "   \n",
    "    # 校验Conv的输出再判断self.fc如何设计\n",
    "    def TestConv(self):\n",
    "        print(self.conv(torch.rand([1,28,28])).shape)\n",
    "\n",
    "Net().TestConv()\n",
    "model=Net()\n",
    "model=model.cuda()"
   ]
  },
  {
   "cell_type": "markdown",
   "metadata": {},
   "source": [
    "## 损失函数和优化器"
   ]
  },
  {
   "cell_type": "code",
   "execution_count": 9,
   "metadata": {},
   "outputs": [],
   "source": [
    "criterian =nn.CrossEntropyLoss()"
   ]
  },
  {
   "cell_type": "code",
   "execution_count": 10,
   "metadata": {},
   "outputs": [
    {
     "name": "stdout",
     "output_type": "stream",
     "text": [
      "\u001b[1;31mInit signature:\u001b[0m\n",
      "\u001b[0mnn\u001b[0m\u001b[1;33m.\u001b[0m\u001b[0mCrossEntropyLoss\u001b[0m\u001b[1;33m(\u001b[0m\u001b[1;33m\n",
      "\u001b[0m    \u001b[0mweight\u001b[0m\u001b[1;33m:\u001b[0m \u001b[0mOptional\u001b[0m\u001b[1;33m[\u001b[0m\u001b[0mtorch\u001b[0m\u001b[1;33m.\u001b[0m\u001b[0mTensor\u001b[0m\u001b[1;33m]\u001b[0m \u001b[1;33m=\u001b[0m \u001b[1;32mNone\u001b[0m\u001b[1;33m,\u001b[0m\u001b[1;33m\n",
      "\u001b[0m    \u001b[0msize_average\u001b[0m\u001b[1;33m=\u001b[0m\u001b[1;32mNone\u001b[0m\u001b[1;33m,\u001b[0m\u001b[1;33m\n",
      "\u001b[0m    \u001b[0mignore_index\u001b[0m\u001b[1;33m:\u001b[0m \u001b[0mint\u001b[0m \u001b[1;33m=\u001b[0m \u001b[1;33m-\u001b[0m\u001b[1;36m100\u001b[0m\u001b[1;33m,\u001b[0m\u001b[1;33m\n",
      "\u001b[0m    \u001b[0mreduce\u001b[0m\u001b[1;33m=\u001b[0m\u001b[1;32mNone\u001b[0m\u001b[1;33m,\u001b[0m\u001b[1;33m\n",
      "\u001b[0m    \u001b[0mreduction\u001b[0m\u001b[1;33m:\u001b[0m \u001b[0mstr\u001b[0m \u001b[1;33m=\u001b[0m \u001b[1;34m'mean'\u001b[0m\u001b[1;33m,\u001b[0m\u001b[1;33m\n",
      "\u001b[0m    \u001b[0mlabel_smoothing\u001b[0m\u001b[1;33m:\u001b[0m \u001b[0mfloat\u001b[0m \u001b[1;33m=\u001b[0m \u001b[1;36m0.0\u001b[0m\u001b[1;33m,\u001b[0m\u001b[1;33m\n",
      "\u001b[0m\u001b[1;33m)\u001b[0m \u001b[1;33m->\u001b[0m \u001b[1;32mNone\u001b[0m\u001b[1;33m\u001b[0m\u001b[1;33m\u001b[0m\u001b[0m\n",
      "\u001b[1;31mDocstring:\u001b[0m     \n",
      "This criterion computes the cross entropy loss between input logits\n",
      "and target.\n",
      "\n",
      "It is useful when training a classification problem with `C` classes.\n",
      "If provided, the optional argument :attr:`weight` should be a 1D `Tensor`\n",
      "assigning weight to each of the classes.\n",
      "This is particularly useful when you have an unbalanced training set.\n",
      "\n",
      "The `input` is expected to contain the unnormalized logits for each class (which do `not` need\n",
      "to be positive or sum to 1, in general).\n",
      "`input` has to be a Tensor of size :math:`(C)` for unbatched input,\n",
      ":math:`(minibatch, C)` or :math:`(minibatch, C, d_1, d_2, ..., d_K)` with :math:`K \\geq 1` for the\n",
      "`K`-dimensional case. The last being useful for higher dimension inputs, such\n",
      "as computing cross entropy loss per-pixel for 2D images.\n",
      "\n",
      "The `target` that this criterion expects should contain either:\n",
      "\n",
      "- Class indices in the range :math:`[0, C)` where :math:`C` is the number of classes; if\n",
      "  `ignore_index` is specified, this loss also accepts this class index (this index\n",
      "  may not necessarily be in the class range). The unreduced (i.e. with :attr:`reduction`\n",
      "  set to ``'none'``) loss for this case can be described as:\n",
      "\n",
      "  .. math::\n",
      "      \\ell(x, y) = L = \\{l_1,\\dots,l_N\\}^\\top, \\quad\n",
      "      l_n = - w_{y_n} \\log \\frac{\\exp(x_{n,y_n})}{\\sum_{c=1}^C \\exp(x_{n,c})}\n",
      "      \\cdot \\mathbb{1}\\{y_n \\not= \\text{ignore\\_index}\\}\n",
      "\n",
      "  where :math:`x` is the input, :math:`y` is the target, :math:`w` is the weight,\n",
      "  :math:`C` is the number of classes, and :math:`N` spans the minibatch dimension as well as\n",
      "  :math:`d_1, ..., d_k` for the `K`-dimensional case. If\n",
      "  :attr:`reduction` is not ``'none'`` (default ``'mean'``), then\n",
      "\n",
      "  .. math::\n",
      "      \\ell(x, y) = \\begin{cases}\n",
      "          \\sum_{n=1}^N \\frac{1}{\\sum_{n=1}^N w_{y_n} \\cdot \\mathbb{1}\\{y_n \\not= \\text{ignore\\_index}\\}} l_n, &\n",
      "           \\text{if reduction} = \\text{`mean';}\\\\\n",
      "            \\sum_{n=1}^N l_n,  &\n",
      "            \\text{if reduction} = \\text{`sum'.}\n",
      "        \\end{cases}\n",
      "\n",
      "  Note that this case is equivalent to applying :class:`~torch.nn.LogSoftmax`\n",
      "  on an input, followed by :class:`~torch.nn.NLLLoss`.\n",
      "\n",
      "- Probabilities for each class; useful when labels beyond a single class per minibatch item\n",
      "  are required, such as for blended labels, label smoothing, etc. The unreduced (i.e. with\n",
      "  :attr:`reduction` set to ``'none'``) loss for this case can be described as:\n",
      "\n",
      "  .. math::\n",
      "      \\ell(x, y) = L = \\{l_1,\\dots,l_N\\}^\\top, \\quad\n",
      "      l_n = - \\sum_{c=1}^C w_c \\log \\frac{\\exp(x_{n,c})}{\\sum_{i=1}^C \\exp(x_{n,i})} y_{n,c}\n",
      "\n",
      "  where :math:`x` is the input, :math:`y` is the target, :math:`w` is the weight,\n",
      "  :math:`C` is the number of classes, and :math:`N` spans the minibatch dimension as well as\n",
      "  :math:`d_1, ..., d_k` for the `K`-dimensional case. If\n",
      "  :attr:`reduction` is not ``'none'`` (default ``'mean'``), then\n",
      "\n",
      "  .. math::\n",
      "      \\ell(x, y) = \\begin{cases}\n",
      "          \\frac{\\sum_{n=1}^N l_n}{N}, &\n",
      "           \\text{if reduction} = \\text{`mean';}\\\\\n",
      "            \\sum_{n=1}^N l_n,  &\n",
      "            \\text{if reduction} = \\text{`sum'.}\n",
      "        \\end{cases}\n",
      "\n",
      ".. note::\n",
      "    The performance of this criterion is generally better when `target` contains class\n",
      "    indices, as this allows for optimized computation. Consider providing `target` as\n",
      "    class probabilities only when a single class label per minibatch item is too restrictive.\n",
      "\n",
      "Args:\n",
      "    weight (Tensor, optional): a manual rescaling weight given to each class.\n",
      "        If given, has to be a Tensor of size `C` and floating point dtype\n",
      "    size_average (bool, optional): Deprecated (see :attr:`reduction`). By default,\n",
      "        the losses are averaged over each loss element in the batch. Note that for\n",
      "        some losses, there are multiple elements per sample. If the field :attr:`size_average`\n",
      "        is set to ``False``, the losses are instead summed for each minibatch. Ignored\n",
      "        when :attr:`reduce` is ``False``. Default: ``True``\n",
      "    ignore_index (int, optional): Specifies a target value that is ignored\n",
      "        and does not contribute to the input gradient. When :attr:`size_average` is\n",
      "        ``True``, the loss is averaged over non-ignored targets. Note that\n",
      "        :attr:`ignore_index` is only applicable when the target contains class indices.\n",
      "    reduce (bool, optional): Deprecated (see :attr:`reduction`). By default, the\n",
      "        losses are averaged or summed over observations for each minibatch depending\n",
      "        on :attr:`size_average`. When :attr:`reduce` is ``False``, returns a loss per\n",
      "        batch element instead and ignores :attr:`size_average`. Default: ``True``\n",
      "    reduction (str, optional): Specifies the reduction to apply to the output:\n",
      "        ``'none'`` | ``'mean'`` | ``'sum'``. ``'none'``: no reduction will\n",
      "        be applied, ``'mean'``: the weighted mean of the output is taken,\n",
      "        ``'sum'``: the output will be summed. Note: :attr:`size_average`\n",
      "        and :attr:`reduce` are in the process of being deprecated, and in\n",
      "        the meantime, specifying either of those two args will override\n",
      "        :attr:`reduction`. Default: ``'mean'``\n",
      "    label_smoothing (float, optional): A float in [0.0, 1.0]. Specifies the amount\n",
      "        of smoothing when computing the loss, where 0.0 means no smoothing. The targets\n",
      "        become a mixture of the original ground truth and a uniform distribution as described in\n",
      "        `Rethinking the Inception Architecture for Computer Vision <https://arxiv.org/abs/1512.00567>`__. Default: :math:`0.0`.\n",
      "\n",
      "Shape:\n",
      "    - Input: Shape :math:`(C)`, :math:`(N, C)` or :math:`(N, C, d_1, d_2, ..., d_K)` with :math:`K \\geq 1`\n",
      "      in the case of `K`-dimensional loss.\n",
      "    - Target: If containing class indices, shape :math:`()`, :math:`(N)` or :math:`(N, d_1, d_2, ..., d_K)` with\n",
      "      :math:`K \\geq 1` in the case of K-dimensional loss where each value should be between :math:`[0, C)`.\n",
      "      If containing class probabilities, same shape as the input and each value should be between :math:`[0, 1]`.\n",
      "    - Output: If reduction is 'none', shape :math:`()`, :math:`(N)` or :math:`(N, d_1, d_2, ..., d_K)` with :math:`K \\geq 1`\n",
      "      in the case of K-dimensional loss, depending on the shape of the input. Otherwise, scalar.\n",
      "\n",
      "\n",
      "    where:\n",
      "\n",
      "    .. math::\n",
      "        \\begin{aligned}\n",
      "            C ={} & \\text{number of classes} \\\\\n",
      "            N ={} & \\text{batch size} \\\\\n",
      "        \\end{aligned}\n",
      "\n",
      "Examples::\n",
      "\n",
      "    >>> # Example of target with class indices\n",
      "    >>> loss = nn.CrossEntropyLoss()\n",
      "    >>> input = torch.randn(3, 5, requires_grad=True)\n",
      "    >>> target = torch.empty(3, dtype=torch.long).random_(5)\n",
      "    >>> output = loss(input, target)\n",
      "    >>> output.backward()\n",
      "    >>>\n",
      "    >>> # Example of target with class probabilities\n",
      "    >>> input = torch.randn(3, 5, requires_grad=True)\n",
      "    >>> target = torch.randn(3, 5).softmax(dim=1)\n",
      "    >>> output = loss(input, target)\n",
      "    >>> output.backward()\n",
      "\u001b[1;31mInit docstring:\u001b[0m Initialize internal Module state, shared by both nn.Module and ScriptModule.\n",
      "\u001b[1;31mFile:\u001b[0m           d:\\programfiles\\anaconda\\envs\\pytorch-gpu\\lib\\site-packages\\torch\\nn\\modules\\loss.py\n",
      "\u001b[1;31mType:\u001b[0m           type\n",
      "\u001b[1;31mSubclasses:\u001b[0m     "
     ]
    }
   ],
   "source": [
    "?nn.CrossEntropyLoss"
   ]
  },
  {
   "cell_type": "code",
   "execution_count": 11,
   "metadata": {},
   "outputs": [],
   "source": [
    "optimizer=optim.Adam(model.parameters(),lr=lr)"
   ]
  },
  {
   "cell_type": "markdown",
   "metadata": {},
   "source": [
    "## 训练"
   ]
  },
  {
   "cell_type": "code",
   "execution_count": 12,
   "metadata": {},
   "outputs": [],
   "source": [
    "def train(epoch):\n",
    "    model.train()\n",
    "    train_loss=0\n",
    "    for i,(data,label) in enumerate(train_loader):\n",
    "        data,label=data.cuda(),label.cuda()\n",
    "        optimizer.zero_grad()\n",
    "        output=model(data)\n",
    "        loss=criterian(output,label)\n",
    "        loss.backward()\n",
    "        optimizer.step()\n",
    "        train_loss+=loss.item()*data.size(0)\n",
    "        \n",
    "    train_loss=train_loss/len(train_loader.dataset)\n",
    "    print('Epoch:{} \\tTraining loss:{:.6f}'.format(epoch,train_loss))"
   ]
  },
  {
   "cell_type": "code",
   "execution_count": 13,
   "metadata": {},
   "outputs": [],
   "source": [
    "def test(epoch):\n",
    "    cro=0\n",
    "    model.eval()\n",
    "    test_loss=0\n",
    "    for i,(data,label) in enumerate(test_loader):\n",
    "        data,label=data.cuda(),label.cuda()\n",
    "        output=model(data)\n",
    "        loss=criterian(output,label)        \n",
    "        test_loss+=loss.item()*data.size(0)        \n",
    "        indexMax=output.argmax(1)\n",
    "        # print(indexMax)\n",
    "        # print(label)     \n",
    "        cro+=torch.sum(indexMax-label == 0)\n",
    "\n",
    "    test_loss=test_loss/len(test_loader.dataset)\n",
    "    print('\\t \\tTesting loss:{:.6f} \\t Acc:{:.3f}%'.format(test_loss,cro/len(test_loader.dataset)*100))"
   ]
  },
  {
   "cell_type": "code",
   "execution_count": 14,
   "metadata": {},
   "outputs": [
    {
     "name": "stdout",
     "output_type": "stream",
     "text": [
      "Epoch:1 \tTraining loss:0.829953\n",
      "\t \tTesting loss:0.597265 \t Acc:77.620%\n",
      "Epoch:2 \tTraining loss:0.552917\n",
      "\t \tTesting loss:0.496204 \t Acc:82.070%\n",
      "Epoch:3 \tTraining loss:0.481485\n",
      "\t \tTesting loss:0.443276 \t Acc:84.100%\n",
      "Epoch:4 \tTraining loss:0.438916\n",
      "\t \tTesting loss:0.404987 \t Acc:85.920%\n",
      "Epoch:5 \tTraining loss:0.407089\n",
      "\t \tTesting loss:0.378778 \t Acc:86.800%\n",
      "Epoch:6 \tTraining loss:0.384405\n",
      "\t \tTesting loss:0.357965 \t Acc:87.380%\n",
      "Epoch:7 \tTraining loss:0.366275\n",
      "\t \tTesting loss:0.345658 \t Acc:87.900%\n",
      "Epoch:8 \tTraining loss:0.352008\n",
      "\t \tTesting loss:0.335416 \t Acc:87.980%\n",
      "Epoch:9 \tTraining loss:0.337047\n",
      "\t \tTesting loss:0.328085 \t Acc:88.290%\n",
      "Epoch:10 \tTraining loss:0.325990\n",
      "\t \tTesting loss:0.315274 \t Acc:88.720%\n",
      "Epoch:11 \tTraining loss:0.317785\n",
      "\t \tTesting loss:0.310431 \t Acc:88.760%\n",
      "Epoch:12 \tTraining loss:0.309761\n",
      "\t \tTesting loss:0.298708 \t Acc:89.160%\n",
      "Epoch:13 \tTraining loss:0.298719\n",
      "\t \tTesting loss:0.299567 \t Acc:89.040%\n",
      "Epoch:14 \tTraining loss:0.294529\n",
      "\t \tTesting loss:0.287600 \t Acc:89.730%\n",
      "Epoch:15 \tTraining loss:0.286927\n",
      "\t \tTesting loss:0.286033 \t Acc:89.630%\n",
      "Epoch:16 \tTraining loss:0.279325\n",
      "\t \tTesting loss:0.279838 \t Acc:89.920%\n",
      "Epoch:17 \tTraining loss:0.275818\n",
      "\t \tTesting loss:0.275452 \t Acc:89.990%\n",
      "Epoch:18 \tTraining loss:0.267941\n",
      "\t \tTesting loss:0.272002 \t Acc:90.240%\n",
      "Epoch:19 \tTraining loss:0.263960\n",
      "\t \tTesting loss:0.271789 \t Acc:90.050%\n",
      "Epoch:20 \tTraining loss:0.259594\n",
      "\t \tTesting loss:0.263265 \t Acc:90.360%\n",
      "Epoch:21 \tTraining loss:0.255870\n",
      "\t \tTesting loss:0.259775 \t Acc:90.600%\n",
      "Epoch:22 \tTraining loss:0.250101\n",
      "\t \tTesting loss:0.256757 \t Acc:90.700%\n",
      "Epoch:23 \tTraining loss:0.245462\n",
      "\t \tTesting loss:0.252910 \t Acc:90.860%\n",
      "Epoch:24 \tTraining loss:0.240488\n",
      "\t \tTesting loss:0.252889 \t Acc:90.980%\n",
      "Epoch:25 \tTraining loss:0.237946\n",
      "\t \tTesting loss:0.253336 \t Acc:90.810%\n",
      "Epoch:26 \tTraining loss:0.234326\n",
      "\t \tTesting loss:0.249285 \t Acc:90.950%\n",
      "Epoch:27 \tTraining loss:0.229084\n",
      "\t \tTesting loss:0.245035 \t Acc:91.150%\n",
      "Epoch:28 \tTraining loss:0.228203\n",
      "\t \tTesting loss:0.241060 \t Acc:91.480%\n",
      "Epoch:29 \tTraining loss:0.221751\n",
      "\t \tTesting loss:0.241980 \t Acc:91.440%\n",
      "Epoch:30 \tTraining loss:0.220579\n",
      "\t \tTesting loss:0.238122 \t Acc:91.360%\n"
     ]
    }
   ],
   "source": [
    "for i in range(30):\n",
    "    train(i+1)\n",
    "    test(i+1)"
   ]
  }
 ],
 "metadata": {
  "kernelspec": {
   "display_name": "pytorchGPU",
   "language": "python",
   "name": "pytorch-gpu"
  },
  "language_info": {
   "codemirror_mode": {
    "name": "ipython",
    "version": 3
   },
   "file_extension": ".py",
   "mimetype": "text/x-python",
   "name": "python",
   "nbconvert_exporter": "python",
   "pygments_lexer": "ipython3",
   "version": "3.12.2"
  }
 },
 "nbformat": 4,
 "nbformat_minor": 2
}
